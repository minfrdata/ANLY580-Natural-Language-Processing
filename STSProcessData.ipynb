{
 "cells": [
  {
   "cell_type": "code",
   "execution_count": 1,
   "metadata": {
    "collapsed": true
   },
   "outputs": [],
   "source": [
    "import pandas as pd\n",
    "\n",
    "train=pd.read_csv(\"trainingandtestdata/training.csv\",encoding='latin-1')\n",
    "#with open(\"trainingandtestdata/training.csv\", encoding='latin-1') as f:\n",
    " #   dt=f.read()\n",
    "train.columns=[\"label\",\"id\",\"date\",\"query\",\"user\",\"sentence\"]\n",
    "train=train[[\"label\",\"sentence\"]]\n",
    "#preprocess\n",
    "from nltk.tokenize import RegexpTokenizer\n",
    "tokenizer = RegexpTokenizer(r'\\w+')\n",
    "sentence_list=[]\n",
    "for st in train.sentence:\n",
    "    st_list=tokenizer.tokenize(st)\n",
    "    sentence_list.append(st_list)\n",
    "label_list=train[\"label\"].tolist()\n",
    "\n",
    "df=train\n",
    "df[\"sentence\"]=sentence_list"
   ]
  },
  {
   "cell_type": "code",
   "execution_count": 2,
   "metadata": {},
   "outputs": [
    {
     "data": {
      "text/html": [
       "<div>\n",
       "<style>\n",
       "    .dataframe thead tr:only-child th {\n",
       "        text-align: right;\n",
       "    }\n",
       "\n",
       "    .dataframe thead th {\n",
       "        text-align: left;\n",
       "    }\n",
       "\n",
       "    .dataframe tbody tr th {\n",
       "        vertical-align: top;\n",
       "    }\n",
       "</style>\n",
       "<table border=\"1\" class=\"dataframe\">\n",
       "  <thead>\n",
       "    <tr style=\"text-align: right;\">\n",
       "      <th></th>\n",
       "      <th>label</th>\n",
       "      <th>sentence</th>\n",
       "    </tr>\n",
       "  </thead>\n",
       "  <tbody>\n",
       "    <tr>\n",
       "      <th>0</th>\n",
       "      <td>0</td>\n",
       "      <td>[is, upset, that, he, can, t, update, his, Fac...</td>\n",
       "    </tr>\n",
       "    <tr>\n",
       "      <th>1</th>\n",
       "      <td>0</td>\n",
       "      <td>[Kenichan, I, dived, many, times, for, the, ba...</td>\n",
       "    </tr>\n",
       "    <tr>\n",
       "      <th>2</th>\n",
       "      <td>0</td>\n",
       "      <td>[my, whole, body, feels, itchy, and, like, its...</td>\n",
       "    </tr>\n",
       "    <tr>\n",
       "      <th>3</th>\n",
       "      <td>0</td>\n",
       "      <td>[nationwideclass, no, it, s, not, behaving, at...</td>\n",
       "    </tr>\n",
       "    <tr>\n",
       "      <th>4</th>\n",
       "      <td>0</td>\n",
       "      <td>[Kwesidei, not, the, whole, crew]</td>\n",
       "    </tr>\n",
       "  </tbody>\n",
       "</table>\n",
       "</div>"
      ],
      "text/plain": [
       "   label                                           sentence\n",
       "0      0  [is, upset, that, he, can, t, update, his, Fac...\n",
       "1      0  [Kenichan, I, dived, many, times, for, the, ba...\n",
       "2      0  [my, whole, body, feels, itchy, and, like, its...\n",
       "3      0  [nationwideclass, no, it, s, not, behaving, at...\n",
       "4      0                  [Kwesidei, not, the, whole, crew]"
      ]
     },
     "execution_count": 2,
     "metadata": {},
     "output_type": "execute_result"
    }
   ],
   "source": [
    "df.head()"
   ]
  },
  {
   "cell_type": "markdown",
   "metadata": {
    "collapsed": true
   },
   "source": [
    "import gensim\n",
    "\n",
    "# Load Google's pre-trained Word2Vec model.\n",
    "#model = gensim.models.Word2Vec.load_word2vec_format('GoogleNews-vectors-negative300.bin', binary=True)  \n",
    "model_e=gensim.models.KeyedVectors.load_word2vec_format('GoogleNews-vectors-negative300.bin', binary=True)  \n",
    "\n"
   ]
  },
  {
   "cell_type": "markdown",
   "metadata": {},
   "source": [
    "df.label.value_counts()"
   ]
  },
  {
   "cell_type": "code",
   "execution_count": 10,
   "metadata": {
    "collapsed": true
   },
   "outputs": [],
   "source": [
    "df=df.sample(frac=0.01, replace=False)"
   ]
  },
  {
   "cell_type": "code",
   "execution_count": 11,
   "metadata": {},
   "outputs": [
    {
     "name": "stderr",
     "output_type": "stream",
     "text": [
      "Using TensorFlow backend.\n",
      "/Library/Frameworks/Python.framework/Versions/3.6/lib/python3.6/importlib/_bootstrap.py:205: RuntimeWarning: compiletime version 3.5 of module 'tensorflow.python.framework.fast_tensor_util' does not match runtime version 3.6\n",
      "  return f(*args, **kwds)\n"
     ]
    },
    {
     "data": {
      "text/plain": [
       "(40, 300)"
      ]
     },
     "execution_count": 11,
     "metadata": {},
     "output_type": "execute_result"
    }
   ],
   "source": [
    "# --- Preparing the Data ---\n",
    "from keras.datasets import imdb\n",
    "from keras.preprocessing import sequence\n",
    "import numpy as np\n",
    "maxlen=40\n",
    "\n",
    "sentence_num=[]\n",
    "for st in df[\"sentence\"].tolist():\n",
    "    single_sentence=[]\n",
    "    for w in st:\n",
    "        try:\n",
    "            single_sentence.append(model_e[w])\n",
    "        except:\n",
    "            single_sentence.append(model_e[\"UNK\"])\n",
    "    \n",
    "    single_sentence=sequence.pad_sequences(np.array(single_sentence).T, maxlen = maxlen)\n",
    "    \n",
    "    single_sentence=single_sentence.T\n",
    "        \n",
    "    sentence_num.append(single_sentence)\n",
    "\n",
    "np.array(single_sentence).shape"
   ]
  },
  {
   "cell_type": "markdown",
   "metadata": {},
   "source": [
    "### Model"
   ]
  },
  {
   "cell_type": "code",
   "execution_count": 13,
   "metadata": {
    "collapsed": true
   },
   "outputs": [],
   "source": [
    "import pandas as pd\n",
    "import numpy as np\n",
    "# --- Libraries ---\n",
    "# - Base libs - \n",
    "import os\n",
    "import numpy as np\n",
    "\n",
    "# -Tensorflow-\n",
    "import tensorflow as tf\n",
    "from tensorflow.python.client import device_lib\n",
    "# -Keras libs-\n",
    "from keras.models import Sequential\n",
    "from keras.layers import Dense, Embedding, SimpleRNN, LSTM, GRU\n",
    "from keras.utils import plot_model # pydot, graphviz are dependencies\n",
    "from keras.utils.vis_utils import model_to_dot\n",
    "from keras.callbacks import TensorBoard, ModelCheckpoint\n",
    "\n",
    "\n",
    "# -Plot libs-\n",
    "import matplotlib.pyplot as plt\n",
    "from IPython.display import SVG, display\n",
    "#%matplotlib inline"
   ]
  },
  {
   "cell_type": "markdown",
   "metadata": {},
   "source": [
    "### KEEP the original data"
   ]
  },
  {
   "cell_type": "code",
   "execution_count": 4,
   "metadata": {
    "collapsed": true
   },
   "outputs": [],
   "source": [
    "\n",
    "\n"
   ]
  },
  {
   "cell_type": "code",
   "execution_count": 4,
   "metadata": {
    "collapsed": true
   },
   "outputs": [],
   "source": [
    "import numpy as np\n",
    "df=train\n",
    "df.loc[df[\"label\"]==4,\"label\"]=1\n",
    "\n",
    "df[\"sentence\"]=sentence_list\n",
    "df=df.sample(frac=0.01, replace=False)\n",
    "from nltk.corpus import wordnet\n",
    "\n",
    "#word dictionary\n",
    "word_list=[]\n",
    "sentences=df[\"sentence\"].tolist()\n",
    "for sentence in sentences:\n",
    "    for word in sentence:\n",
    "        # if wordnet.synsets(word.lower()):\n",
    "            if word not in word_list:\n",
    "                word_list.append(word.lower())\n",
    "\n",
    "\n",
    "            \n",
    "        \n"
   ]
  },
  {
   "cell_type": "code",
   "execution_count": 6,
   "metadata": {
    "collapsed": true
   },
   "outputs": [],
   "source": [
    "#how many words in a single sentence\n",
    "max_len = 75\n",
    "#maximum length of the word: how many characters a word contain\n",
    "max_len_char = 10\n",
    "\n",
    "words=word_list\n",
    "word2idx = {w: i + 2 for i, w in enumerate(words)}\n",
    "word2idx[\"UNK\"] = 1\n",
    "word2idx[\"PAD\"] = 0\n",
    "idx2word = {i: w for w, i in word2idx.items()}\n"
   ]
  },
  {
   "cell_type": "markdown",
   "metadata": {},
   "source": [
    "### Word characters "
   ]
  },
  {
   "cell_type": "code",
   "execution_count": 7,
   "metadata": {},
   "outputs": [
    {
     "name": "stderr",
     "output_type": "stream",
     "text": [
      "C:\\Users\\nikhi\\Anaconda3\\lib\\site-packages\\h5py\\__init__.py:34: FutureWarning: Conversion of the second argument of issubdtype from `float` to `np.floating` is deprecated. In future, it will be treated as `np.float64 == np.dtype(float).type`.\n",
      "  from ._conv import register_converters as _register_converters\n",
      "Using TensorFlow backend.\n"
     ]
    },
    {
     "data": {
      "text/plain": [
       "(16000, 75)"
      ]
     },
     "execution_count": 7,
     "metadata": {},
     "output_type": "execute_result"
    }
   ],
   "source": [
    "from keras.preprocessing.sequence import pad_sequences\n",
    "sentences=df.sentence\n",
    "X_word=[]\n",
    "for s in sentences:\n",
    "    single_s=[]\n",
    "    for w in s:\n",
    "       # if wordnet.synsets(w.lower()):\n",
    "            single_s.append(word2idx[w.lower()])\n",
    "        #else:\n",
    "         #   single_s.append(word2idx[\"UNK\"])\n",
    "    X_word.append(single_s)\n",
    "X_word = pad_sequences(maxlen=max_len, sequences=X_word, value=word2idx[\"PAD\"], padding='post', truncating='post')\n",
    "X_word.shape"
   ]
  },
  {
   "cell_type": "code",
   "execution_count": 8,
   "metadata": {},
   "outputs": [
    {
     "name": "stdout",
     "output_type": "stream",
     "text": [
      "93\n"
     ]
    }
   ],
   "source": [
    "chars = set([w_i for sentence in df.sentence for w in sentence for w_i in w])\n",
    "n_chars = len(chars)\n",
    "print(n_chars)\n",
    "\n",
    "char2idx = {c: i + 2 for i, c in enumerate(chars)}\n",
    "char2idx[\"UNK\"] = 1\n",
    "char2idx[\"PAD\"] = 0\n",
    "\n",
    "\n",
    "X_char = []\n",
    "for sentence in sentences:\n",
    "    sent_seq = []\n",
    "    for i in range(max_len):\n",
    "        word_seq = []\n",
    "        for j in range(max_len_char):\n",
    "            try:\n",
    "                word_seq.append(char2idx.get(sentence[i][0][j]))\n",
    "            except:\n",
    "                word_seq.append(char2idx.get(\"PAD\"))\n",
    "        sent_seq.append(word_seq)\n",
    "    X_char.append(np.array(sent_seq))\n"
   ]
  },
  {
   "cell_type": "code",
   "execution_count": 9,
   "metadata": {
    "collapsed": true
   },
   "outputs": [],
   "source": [
    "y=df.label\n",
    "from sklearn.model_selection import train_test_split\n",
    "X_word_tr, X_word_te, y_tr, y_te = train_test_split(X_word, y, test_size=0.1, random_state=2018)\n",
    "X_char_tr, X_char_te, _, _ = train_test_split(X_char, y, test_size=0.1, random_state=2018)"
   ]
  },
  {
   "cell_type": "code",
   "execution_count": 10,
   "metadata": {
    "collapsed": true
   },
   "outputs": [],
   "source": [
    "## Define the character embedding model\n",
    "from keras.models import Model, Input, Sequential\n",
    "from keras.layers import LSTM, Embedding, Dense, TimeDistributed, Dropout, Conv1D,Flatten, Conv2D,MaxPooling1D,MaxPooling2D\n",
    "from keras.layers import Bidirectional, concatenate, SpatialDropout1D, GlobalMaxPooling1D\n"
   ]
  },
  {
   "cell_type": "markdown",
   "metadata": {},
   "source": [
    "model = Sequential()\n",
    "model.add(Embedding(input_dim=n_words + 2, output_dim=20,\n",
    "                     input_length=max_len, mask_zero=True))\n",
    "#model.add(SimpleRNN(12))\n",
    "#model.add(GRU(32))\n",
    "model.add(LSTM(5))\n",
    "model.add(Dense(1, activation ='sigmoid'))\n",
    "model.summary()"
   ]
  },
  {
   "cell_type": "markdown",
   "metadata": {},
   "source": [
    "###CHARSCNN"
   ]
  },
  {
   "cell_type": "code",
   "execution_count": 30,
   "metadata": {},
   "outputs": [
    {
     "name": "stdout",
     "output_type": "stream",
     "text": [
      "__________________________________________________________________________________________________\n",
      "Layer (type)                    Output Shape         Param #     Connected to                     \n",
      "==================================================================================================\n",
      "input_10 (InputLayer)           (None, 75, 10)       0                                            \n",
      "__________________________________________________________________________________________________\n",
      "input_9 (InputLayer)            (None, 75)           0                                            \n",
      "__________________________________________________________________________________________________\n",
      "time_distributed_9 (TimeDistrib (None, 75, 10, 10)   950         input_10[0][0]                   \n",
      "__________________________________________________________________________________________________\n",
      "embedding_9 (Embedding)         (None, 75, 20)       1064520     input_9[0][0]                    \n",
      "__________________________________________________________________________________________________\n",
      "time_distributed_10 (TimeDistri (None, 75, 20)       2480        time_distributed_9[0][0]         \n",
      "__________________________________________________________________________________________________\n",
      "concatenate_5 (Concatenate)     (None, 150, 20)      0           embedding_9[0][0]                \n",
      "                                                                 time_distributed_10[0][0]        \n",
      "__________________________________________________________________________________________________\n",
      "spatial_dropout1d_5 (SpatialDro (None, 150, 20)      0           concatenate_5[0][0]              \n",
      "__________________________________________________________________________________________________\n",
      "conv1d_5 (Conv1D)               (None, 147, 8)       648         spatial_dropout1d_5[0][0]        \n",
      "__________________________________________________________________________________________________\n",
      "max_pooling1d_5 (MaxPooling1D)  (None, 73, 8)        0           conv1d_5[0][0]                   \n",
      "__________________________________________________________________________________________________\n",
      "flatten_5 (Flatten)             (None, 584)          0           max_pooling1d_5[0][0]            \n",
      "__________________________________________________________________________________________________\n",
      "dense_5 (Dense)                 (None, 1)            585         flatten_5[0][0]                  \n",
      "==================================================================================================\n",
      "Total params: 1,069,183\n",
      "Trainable params: 1,069,183\n",
      "Non-trainable params: 0\n",
      "__________________________________________________________________________________________________\n"
     ]
    }
   ],
   "source": [
    "# input and embedding for words\n",
    "n_words=len(words)\n",
    "\n",
    "# define the model\n",
    "model = Sequential()\n",
    "#model.add(Embedding(n_words, 8, input_length=max_len))\n",
    "\n",
    "word_in = Input(shape=(max_len,))\n",
    "emb_word = Embedding(input_dim=n_words + 2, output_dim=20,\n",
    "                     input_length=max_len, mask_zero=False)(word_in)\n",
    "\n",
    "# input and embeddings for characters\n",
    "char_in = Input(shape=(max_len, max_len_char,))\n",
    "emb_char = TimeDistributed(Embedding(input_dim=n_chars + 2, output_dim=10,\n",
    "                           input_length=max_len_char, mask_zero=False))(char_in)\n",
    "# character LSTM to get word encodings by characters\n",
    "char_enc = TimeDistributed(LSTM(units=20, return_sequences=False,\n",
    "                               recurrent_dropout=0.5))(emb_char)\n",
    "\n",
    "# main CNN\n",
    "x = concatenate([emb_word, char_enc],axis=1)\n",
    "x = SpatialDropout1D(0.3)(x)\n",
    "#x=Flatten()(x)\n",
    "# main model\n",
    "                                \n",
    "# first feature extractor\n",
    "conv1 = Conv1D(8, kernel_size=4, activation='relu')(x)\n",
    "pool1 = MaxPooling1D(pool_size=2)(conv1)\n",
    "flat1 = Flatten()(pool1)\n",
    "# prediction output\n",
    "output = Dense(1, activation='sigmoid')(flat1)\n",
    "model = Model(inputs=[word_in, char_in], outputs=output)\n",
    "\n",
    "\n",
    "model.summary()"
   ]
  },
  {
   "cell_type": "code",
   "execution_count": 31,
   "metadata": {
    "collapsed": true
   },
   "outputs": [],
   "source": [
    "model.compile(optimizer=\"adam\",loss=\"binary_crossentropy\",metrics=[\"acc\"])\n"
   ]
  },
  {
   "cell_type": "code",
   "execution_count": 32,
   "metadata": {},
   "outputs": [
    {
     "name": "stdout",
     "output_type": "stream",
     "text": [
      "Train on 11520 samples, validate on 2880 samples\n",
      "Epoch 1/10\n",
      "11520/11520 [==============================] - 34s 3ms/step - loss: 0.6902 - acc: 0.5313 - val_loss: 0.6784 - val_acc: 0.5851\n",
      "Epoch 2/10\n",
      "11520/11520 [==============================] - 32s 3ms/step - loss: 0.5873 - acc: 0.7028 - val_loss: 0.5681 - val_acc: 0.7219\n",
      "Epoch 3/10\n",
      "11520/11520 [==============================] - 32s 3ms/step - loss: 0.4073 - acc: 0.8317 - val_loss: 0.5518 - val_acc: 0.7403\n",
      "Epoch 4/10\n",
      "11520/11520 [==============================] - 33s 3ms/step - loss: 0.2666 - acc: 0.9054 - val_loss: 0.5904 - val_acc: 0.7260\n",
      "Epoch 5/10\n",
      "11520/11520 [==============================] - 31s 3ms/step - loss: 0.1706 - acc: 0.9434 - val_loss: 0.6361 - val_acc: 0.7247\n",
      "Epoch 6/10\n",
      "11520/11520 [==============================] - 31s 3ms/step - loss: 0.1113 - acc: 0.9661 - val_loss: 0.7005 - val_acc: 0.7167\n",
      "Epoch 7/10\n",
      "11520/11520 [==============================] - 31s 3ms/step - loss: 0.0767 - acc: 0.9772 - val_loss: 0.7759 - val_acc: 0.7024\n",
      "Epoch 8/10\n",
      "11520/11520 [==============================] - 31s 3ms/step - loss: 0.0545 - acc: 0.9832 - val_loss: 0.8354 - val_acc: 0.7038\n",
      "Epoch 9/10\n",
      "11520/11520 [==============================] - 32s 3ms/step - loss: 0.0418 - acc: 0.9887 - val_loss: 0.9155 - val_acc: 0.6962\n",
      "Epoch 10/10\n",
      "11520/11520 [==============================] - 31s 3ms/step - loss: 0.0326 - acc: 0.9907 - val_loss: 0.9596 - val_acc: 0.7010\n"
     ]
    }
   ],
   "source": [
    "history = model.fit([X_word_tr,\n",
    "                     np.array(X_char_tr).reshape((len(X_char_tr), max_len, max_len_char))],\n",
    "                    np.array(y_tr),\n",
    "                    batch_size=32, epochs=10, validation_split=0.2, verbose=1)\n"
   ]
  },
  {
   "cell_type": "code",
   "execution_count": 33,
   "metadata": {},
   "outputs": [
    {
     "name": "stdout",
     "output_type": "stream",
     "text": [
      "1600/1600 [==============================] - 1s 638us/step\n"
     ]
    },
    {
     "data": {
      "text/plain": [
       "[1.0790608841180802, 0.68375]"
      ]
     },
     "execution_count": 33,
     "metadata": {},
     "output_type": "execute_result"
    }
   ],
   "source": [
    "model.evaluate([X_word_te,\n",
    "                     np.array(X_char_te).reshape((len(X_char_te), max_len, max_len_char))],\n",
    "                    np.array(y_te))"
   ]
  },
  {
   "cell_type": "code",
   "execution_count": 50,
   "metadata": {},
   "outputs": [
    {
     "data": {
      "image/png": "[encoded data removed]",
      "text/plain": [
       "<matplotlib.figure.Figure at 0x20a4cebeef0>"
      ]
     },
     "metadata": {},
     "output_type": "display_data"
    }
   ],
   "source": [
    "# --- Plotting data/training model ---\n",
    "import matplotlib.pyplot as plt\n",
    "\n",
    "# Get loss function\n",
    "loss = history.history['acc']\n",
    "loss=[0]+list(loss)\n",
    "val_loss = history.history['val_acc']\n",
    "val_loss=[0]+list(val_loss)\n",
    "\n",
    "# Setup grid for plotting\n",
    "epochs =range(1, len(loss) + 1)\n",
    "#epochs=[0]+list(epochs)\n",
    "# Plot\n",
    "plt.close(\"all\")\n",
    "plt.plot(epochs, loss, 'b', label='Training')\n",
    "plt.plot(epochs, val_loss,'--', label='Validation')\n",
    "plt.ylim(0,1)\n",
    "plt.title('STS performance',fontsize=18)\n",
    "plt.xlabel('Epochs',fontsize=16)\n",
    "plt.ylabel('Accuracy',fontsize=16)\n",
    "plt.legend()\n",
    "plt.savefig(\"accuray.png\")\n",
    "plt.show()"
   ]
  },
  {
   "cell_type": "markdown",
   "metadata": {},
   "source": [
    "### backup"
   ]
  },
  {
   "cell_type": "markdown",
   "metadata": {
    "collapsed": true
   },
   "source": [
    " --- Preparing the Data ---\n",
    "from keras.datasets import imdb\n",
    "from keras.preprocessing import sequence\n",
    "import numpy as np\n",
    "maxlen=40\n",
    "\n",
    "sentence_num=[]\n",
    "for st in df[\"sentence\"].tolist():\n",
    "    single_sentence=[]\n",
    "    for w in st:\n",
    "        single_sentence.append(vocab[w])\n",
    "       \n",
    "    #single_sentence=sequence.pad_sequences(np.array(single_sentence).T, maxlen = maxlen)\n",
    "    \n",
    "    #single_sentence=single_sentence.T\n",
    "        \n",
    "    sentence_num.append(single_sentence)\n",
    "\n"
   ]
  },
  {
   "cell_type": "markdown",
   "metadata": {},
   "source": [
    "print('Pad sequence (sample x time)')\n",
    "input_all = sequence.pad_sequences(sentence_num, maxlen = maxlen)\n",
    "input_all.shape"
   ]
  },
  {
   "cell_type": "markdown",
   "metadata": {
    "collapsed": true
   },
   "source": [
    "#split to train and test data\n",
    "import random\n",
    "samples=range(len(input_all))\n",
    "num_train=int(len(input_all)*0.7)\n",
    "train_index=random.sample(samples,num_train)\n",
    "test_index=[i for i in samples if i not in train_index]\n",
    "input_train=input_all[train_index]\n",
    "input_test=input_all[test_index]\n",
    "\n"
   ]
  },
  {
   "cell_type": "markdown",
   "metadata": {
    "collapsed": true
   },
   "source": [
    "y_train=df[\"label\"].values[train_index]\n",
    "y_test=df[\"label\"].values[test_index]"
   ]
  },
  {
   "cell_type": "markdown",
   "metadata": {},
   "source": [
    "max_features=100000\n",
    "\n",
    "model = Sequential()\n",
    "model.add(Embedding(max_features, 300))\n",
    "#model.add(SimpleRNN(12))\n",
    "#model.add(GRU(32))\n",
    "model.add(LSTM(5))\n",
    "model.add(Dense(1, activation ='sigmoid'))\n",
    "model.summary()"
   ]
  },
  {
   "cell_type": "markdown",
   "metadata": {
    "collapsed": true
   },
   "source": [
    "#Compile model\n",
    "model.compile(optimizer = 'rmsprop',\n",
    "             loss = 'binary_crossentropy',\n",
    "             metrics=['acc'])"
   ]
  },
  {
   "cell_type": "markdown",
   "metadata": {},
   "source": [
    "\n",
    "# Verbose=0 -> to avoid jupyter notebook freezing\n",
    "history = model.fit(input_train, y_train, \n",
    "                    epochs = 5, batch_size = 32, \n",
    "                    verbose=1)"
   ]
  },
  {
   "cell_type": "markdown",
   "metadata": {},
   "source": [
    "model.evaluate(input_test,y_test)"
   ]
  }
 ],
 "metadata": {
  "kernelspec": {
   "display_name": "Python 3",
   "language": "python",
   "name": "python3"
  },
  "language_info": {
   "codemirror_mode": {
    "name": "ipython",
    "version": 3
   },
   "file_extension": ".py",
   "mimetype": "text/x-python",
   "name": "python",
   "nbconvert_exporter": "python",
   "pygments_lexer": "ipython3",
   "version": "3.6.2"
  }
 },
 "nbformat": 4,
 "nbformat_minor": 2
}
